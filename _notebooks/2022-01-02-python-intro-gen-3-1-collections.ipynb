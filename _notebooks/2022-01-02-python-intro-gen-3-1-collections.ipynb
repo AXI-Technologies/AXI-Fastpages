{
  "cells": [
    {
      "cell_type": "markdown",
      "metadata": {
        "id": "Hu-DQLCysvHt"
      },
      "source": [
        "# \"Chapitre 3 : Les collections\"\n",
        "> \"Python : Chapitre 3 - Lesson 1\"\n",
        "\n",
        "- toc: false \n",
        "- badges: true\n",
        "- hide_binder_badge: true\n",
        "- hide_github_badge: true\n",
        "- comments: false\n",
        "- layout: post\n",
        "- author: AXI Academy\n",
        "- permalink: /python-intro-gen/chapter/3/lesson/1/"
      ]
    },
    {
      "cell_type": "markdown",
      "metadata": {
        "id": "DPLBXxkSsvH0"
      },
      "source": [
        "Nous avons déjà rencontré quelques types Python simples comme les nombres (`int`, `float`), les string (`str`)et les booléens (`bool`). Nous allons maintenant voir comment regrouper plusieurs valeurs dans une collection, comme une liste de nombres ou un dictionnaire que nous pouvons utiliser pour stocker et récupérer des paires clé-valeur. De nombreuses collections utiles sont des types intégrés dans Python, et nous les rencontrerons assez souvent.\n",
        "\n",
        "## 1. Les listes (`list`)\n",
        "\n",
        "\n",
        "Le type de liste en Python est appelé `list`. Nous pouvons l'utiliser pour stocker plusieurs valeurs et y accéder séquentiellement ou par leur position (leur index). Les listes sont définis avec un ensemble de valeurs séparées par des virgules entre crochets (`[` et `]`) :"
      ]
    },
    {
      "cell_type": "code",
      "execution_count": null,
      "metadata": {},
      "outputs": [],
      "source": [
        "# a list of strings\n",
        "animals = ['cat', 'dog', 'fish', 'bison']\n",
        "\n",
        "# a list of integers\n",
        "numbers = [1, 7, 34, 20, 12]\n",
        "\n",
        "# an empty list\n",
        "my_list = []\n",
        "\n",
        "# a list of variables we defined somewhere else\n",
        "things = [\n",
        "    one_variable,\n",
        "    another_variable,\n",
        "    third_variable, # this trailing comma is legal in Python\n",
        "]"
      ]
    },
    {
      "cell_type": "markdown",
      "metadata": {},
      "source": [
        "Comme vous pouvez le voir, nous avons utilisé des noms au pluriel pour nommer la plupart de nos variables de liste. Il s'agit d'une convention courante et il est utile de la suivre dans la plupart des cas.\n",
        "\n",
        "Pour accéder à un élément de la liste, nous utilisons l'identifiant de la liste suivi de l'index entre crochets. Les index sont des entiers qui commencent à zéro :"
      ]
    },
    {
      "cell_type": "code",
      "execution_count": null,
      "metadata": {},
      "outputs": [],
      "source": [
        "print(animals[0]) # cat\n",
        "print(numbers[1]) # 7\n",
        "\n",
        "# This will give us an error, because the list only has four elements\n",
        "print(animals[6])"
      ]
    },
    {
      "cell_type": "markdown",
      "metadata": {},
      "source": [
        "On peut aussi retrouver des éléments en partant de la fin :"
      ]
    },
    {
      "cell_type": "code",
      "execution_count": null,
      "metadata": {},
      "outputs": [],
      "source": [
        "print(animals[-1]) # the last element -- bison\n",
        "print(numbers[-2]) # the second-last element -- 20"
      ]
    },
    {
      "cell_type": "markdown",
      "metadata": {},
      "source": [
        "Nous pouvons aussi extraire un sous-ensemble d'une liste (qui sera elle-même une liste) à l'aide d'un `slice`. Cela utilise presque la même syntaxe que pour accéder à un seul élément, mais au lieu de spécifier un seul index entre les crochets, nous devons spécifier une limite supérieure et inférieure. Notez que notre sous-liste inclura l'élément à la limite inférieure, mais exclura l'élément à la limite supérieure :"
      ]
    },
    {
      "cell_type": "code",
      "execution_count": null,
      "metadata": {},
      "outputs": [],
      "source": [
        "print(animals[1:3]) # ['dog', 'fish']\n",
        "print(animals[1:-1]) # ['dog', 'fish']"
      ]
    },
    {
      "cell_type": "markdown",
      "metadata": {},
      "source": [
        "Si l'une des limites est l'une des extrémités de la liste, nous pouvons la laisser de côté."
      ]
    },
    {
      "cell_type": "code",
      "execution_count": null,
      "metadata": {},
      "outputs": [],
      "source": [
        "print(animals[2:]) # ['fish', 'bison']\n",
        "print(animals[:2]) # ['cat', 'dog']\n",
        "print(animals[:]) # a copy of the whole list"
      ]
    },
    {
      "cell_type": "markdown",
      "metadata": {},
      "source": [
        "Nous pouvons même inclure un troisième paramètre pour spécifier la taille du pas :"
      ]
    },
    {
      "cell_type": "code",
      "execution_count": null,
      "metadata": {},
      "outputs": [],
      "source": [
        "print(animals[::2]) # ['cat', 'fish']"
      ]
    },
    {
      "cell_type": "markdown",
      "metadata": {},
      "source": [
        "Les listes sont mutables, nous pouvons modifier des éléments, en ajouter ou en supprimer. Une liste changera de taille automatiquement lorsque nous ajoutons ou supprimons des éléments :"
      ]
    },
    {
      "cell_type": "code",
      "execution_count": null,
      "metadata": {},
      "outputs": [],
      "source": [
        "# assign a new value to an existing element\n",
        "animals[3] = \"hamster\"\n",
        "\n",
        "# add a new element to the end of the list\n",
        "animals.append(\"squirrel\")\n",
        "\n",
        "# remove an element by its index\n",
        "del animals[2]"
      ]
    },
    {
      "cell_type": "markdown",
      "metadata": {},
      "source": [
        "Comme les `list` sont mutables, nous pouvons modifier une variable d'une `list` sans lui affecter une valeur complètement nouvelle. N'oubliez pas que si nous attribuons la même valeur de `list` à deux variables, toute modification faite à l'une des deux variables sera refleté sur l'autre :"
      ]
    },
    {
      "cell_type": "code",
      "execution_count": null,
      "metadata": {},
      "outputs": [],
      "source": [
        "animals = ['cat', 'dog', 'goldfish', 'canary']\n",
        "pets = animals # now both variables refer to the same list object\n",
        "\n",
        "animals.append('aardvark')\n",
        "print(pets) # pets is still the same list as animals\n",
        "\n",
        "animals = ['rat', 'gerbil', 'hamster'] # now we assign a new list value to animals\n",
        "print(pets) # pets still refers to the old list\n",
        "\n",
        "pets = animals[:] # assign a *copy* of animals to pets\n",
        "animals.append('aardvark')\n",
        "print(pets) # pets remains unchanged, because it refers to a copy, not the original list"
      ]
    },
    {
      "cell_type": "markdown",
      "metadata": {},
      "source": [
        "On peut mélanger les types de valeurs que l'on stocke dans une liste :"
      ]
    },
    {
      "cell_type": "code",
      "execution_count": null,
      "metadata": {},
      "outputs": [],
      "source": [
        "my_list = ['cat', 12, 35.8]"
      ]
    },
    {
      "cell_type": "markdown",
      "metadata": {},
      "source": [
        "Comment vérifier si une liste contient une valeur particulière ? Nous utilisons les opérateurs `in` ou `not in` : "
      ]
    },
    {
      "cell_type": "code",
      "execution_count": null,
      "metadata": {},
      "outputs": [],
      "source": [
        "numbers = [34, 67, 12, 29]\n",
        "my_number = 67\n",
        "\n",
        "if number in numbers:\n",
        "    print(\"%d is in the list!\" % number)\n",
        "\n",
        "my_number = 90\n",
        "if number not in numbers:\n",
        "    print(\"%d is not in the list!\" % number)\n"
      ]
    },
    {
      "cell_type": "markdown",
      "metadata": {},
      "source": [
        "### Les fonctions des listes\n",
        "\n",
        "\n",
        "Il existe des fonctions `built-in` que nous pouvons utiliser sur les listes et autres séquences :"
      ]
    },
    {
      "cell_type": "code",
      "execution_count": null,
      "metadata": {},
      "outputs": [],
      "source": [
        "# the length of a list\n",
        "len(animals)\n",
        "\n",
        "# the sum of a list of numbers\n",
        "sum(numbers)\n",
        "\n",
        "# are any of these values true?\n",
        "any([1,0,1,0,1])\n",
        "\n",
        "# are all of these values true?\n",
        "all([1,0,1,0,1])"
      ]
    },
    {
      "cell_type": "markdown",
      "metadata": {},
      "source": [
        "L'objet `list` possède lui aussi de nombreuses fonctions utiles :"
      ]
    },
    {
      "cell_type": "code",
      "execution_count": null,
      "metadata": {},
      "outputs": [],
      "source": [
        "numbers = [1, 2, 3, 4, 5]\n",
        "\n",
        "# we already saw how to add an element to the end\n",
        "numbers.append(5)\n",
        "\n",
        "# count how many times a value appears in the list\n",
        "numbers.count(5)\n",
        "\n",
        "# append several values at once to the end\n",
        "numbers.extend([56, 2, 12])\n",
        "\n",
        "# find the index of a value\n",
        "numbers.index(3)\n",
        "# if the value appears more than once, we will get the index of the first one\n",
        "numbers.index(2)\n",
        "# if the value is not in the list, we will get a ValueError!\n",
        "numbers.index(42)\n",
        "\n",
        "# insert a value at a particular index\n",
        "numbers.insert(0, 45) # insert 45 at the beginning of the list\n",
        "\n",
        "# remove an element by its index and assign it to a variable\n",
        "my_number = numbers.pop(0)\n",
        "\n",
        "# remove an element by its value\n",
        "numbers.remove(12)\n",
        "# if the value appears more than once, only the first one will be removed\n",
        "numbers.remove(5)"
      ]
    },
    {
      "cell_type": "markdown",
      "metadata": {},
      "source": [
        "Nous pouvons aussi trier les listes de plusieurs façons :"
      ]
    },
    {
      "cell_type": "code",
      "execution_count": null,
      "metadata": {},
      "outputs": [],
      "source": [
        "numbers = [3, 2, 4, 1]\n",
        "\n",
        "# these return a modified copy, which we can print\n",
        "print(sorted(numbers))\n",
        "print(list(reversed(numbers)))\n",
        "\n",
        "# the original list is unmodified\n",
        "print(numbers)\n",
        "\n",
        "# now we can modify it in place\n",
        "numbers.sort()\n",
        "numbers.reverse()\n",
        "\n",
        "print(numbers)"
      ]
    },
    {
      "cell_type": "markdown",
      "metadata": {},
      "source": [
        "### Les opérateurs arithmétiques\n",
        "\n",
        "Nous pouvons combiner des listes et les étendre grace aux opérateurs arithmétiques `+` et `*` :"
      ]
    },
    {
      "cell_type": "code",
      "execution_count": null,
      "metadata": {},
      "outputs": [],
      "source": [
        "# we can concatenate two lists by adding them\n",
        "print([1, 2, 3] + [4, 5, 6])\n",
        "\n",
        "# we can concatenate a list with itself by multiplying it by an integer\n",
        "print([1, 2, 3] * 3)\n",
        "\n",
        "# not all arithmetic operators can be used on lists -- this will give us an error!\n",
        "print([1, 2, 3] - [2, 3])"
      ]
    },
    {
      "cell_type": "markdown",
      "metadata": {},
      "source": [
        "## Exercice 1 :\n",
        "\n",
        " - 1) Créez une liste `a` qui contient les trois premiers entiers positifs impairs et une liste `b` qui contient les trois premiers entiers positifs pairs.\n",
        " - 2) Créez une nouvelle liste `c` qui combine les nombres des deux listes (l'ordre n'a pas d'importance).\n",
        " - 3) Créez une nouvelle liste `d` qui est une copie triée de `c`, en laissant `c` inchangé.\n",
        " - 4) Inversez `d`.\n",
        " - 5) Définissez le 4ème élément de `c` comme étant 42.\n",
        " - 5) Ajoutez 10 à la fin de `d`.\n",
        " - 6) Ajoutez 7, 8 et 9 à la fin du `c`.\n",
        " - 7) Affichez les trois premiers éléments de `c`.\n",
        " - 8) Affichez le dernier élément de `d` sans utiliser sa longueur.\n",
        " - 9) Affichez la longueur de `d`."
      ]
    },
    {
      "cell_type": "markdown",
      "metadata": {},
      "source": [
        "## 2. Les tuples (`tuple`)\n",
        "\n",
        "Python a un autre type de séquence appelé `tuple`. Les tuples sont similaires aux listes, mais ils sont immuables. Les tuples sont définis avec un ensemble de valeurs séparées par des virgules entre parenthèses (`(` et `)`) :"
      ]
    },
    {
      "cell_type": "code",
      "execution_count": null,
      "metadata": {},
      "outputs": [],
      "source": [
        "WEEKDAYS = ('Monday', 'Tuesday', 'Wednesday', 'Thursday', 'Friday', 'Saturday', 'Sunday')"
      ]
    },
    {
      "cell_type": "markdown",
      "metadata": {},
      "source": [
        "Nous pouvons utiliser des tuples de la même manière que nous utilisons des listes, sauf que nous ne pouvons pas les modifier :"
      ]
    },
    {
      "cell_type": "code",
      "execution_count": null,
      "metadata": {},
      "outputs": [],
      "source": [
        "animals = ('cat', 'dog', 'fish')\n",
        "\n",
        "# an empty tuple\n",
        "my_tuple = ()\n",
        "\n",
        "# we can access a single element\n",
        "print(animals[0])\n",
        "\n",
        "# we can get a slice\n",
        "print(animals[1:]) # note that our slice will be a new tuple, not a list\n",
        "\n",
        "# we can count values or look up an index\n",
        "animals.count('cat')\n",
        "animals.index('cat')\n",
        "\n",
        "# ... but this is not allowed:\n",
        "animals.append('canary')\n",
        "animal[1] = 'gerbil'"
      ]
    },
    {
      "cell_type": "markdown",
      "metadata": {},
      "source": [
        "A quoi servent les tuples ? Nous pouvons les utiliser pour créer une séquence de valeurs que nous ne voulons pas modifier."
      ]
    },
    {
      "cell_type": "markdown",
      "metadata": {},
      "source": [
        "## Exercice 2\n",
        "\n",
        "- 1) Créez un tuple a qui contient les quatre premiers entiers positifs et un tuple `b` qui contient les quatre entiers positifs suivants.\n",
        "- 2) Créez un tuple c qui combine tous les nombres de `a` et `b` dans n'importe quel ordre.\n",
        "- 3) Créez un tuple d qui est une copie triée de `c`.\n",
        "- 4) Affichez le troisième élément de `d`.\n",
        "- 5) Affichez les trois derniers éléments de `d` sans utiliser sa longueur.\n",
        "- 6) Affichez la longueur de `d`."
      ]
    },
    {
      "cell_type": "markdown",
      "metadata": {},
      "source": [
        "## 3. Les sets (`set`)\n",
        "\n",
        "\n",
        "Il existe encore un autre type de séquence appelé `set`. Un `set` est une collection d'éléments uniques. Si nous ajoutons plusieurs copies du même élément à un `set`, les doublons seront éliminés et il nous restera un de chaque élément. Les sets sont définis avec un ensemble de valeurs séparées par des virgules entre accolades (`{` et `}`) :"
      ]
    },
    {
      "cell_type": "code",
      "execution_count": null,
      "metadata": {},
      "outputs": [],
      "source": [
        "animals = {'cat', 'dog', 'goldfish', 'canary', 'cat'}\n",
        "print(animals) # the set will only contain one cat"
      ]
    },
    {
      "cell_type": "markdown",
      "metadata": {},
      "source": [
        "Nous pouvons faire plusieurs opérations sur les sets :"
      ]
    },
    {
      "cell_type": "code",
      "execution_count": null,
      "metadata": {},
      "outputs": [],
      "source": [
        "even_numbers = {2, 4, 6, 8, 10}\n",
        "big_numbers = {6, 7, 8, 9, 10}\n",
        "\n",
        "# subtraction: big numbers which are not even\n",
        "print(big_numbers - even_numbers)\n",
        "\n",
        "# union: numbers which are big or even\n",
        "print(big_numbers | even_numbers)\n",
        "\n",
        "# intersection: numbers which are big and even\n",
        "print(big_numbers & even_numbers)\n",
        "\n",
        "# numbers which are big or even but not both\n",
        "print(big_numbers ^ even_numbers)"
      ]
    },
    {
      "cell_type": "markdown",
      "metadata": {},
      "source": [
        "Il est important de noter que contrairement aux listes et aux tuples, les sets ne sont pas ordonnés. Lorsque nous affichons un ensemble, l'ordre des éléments sera aléatoire. Nous pouvons toujours l'ordoner si besoin (cependant la fonction `sorted` nous renverra une liste):"
      ]
    },
    {
      "cell_type": "code",
      "execution_count": null,
      "metadata": {},
      "outputs": [],
      "source": [
        "print(animals)\n",
        "print(sorted(animals))"
      ]
    },
    {
      "cell_type": "markdown",
      "metadata": {},
      "source": [
        "Comment fait-on pour déclarer un `set` vide ? Nous devons utiliser la fonction `set`. Les dictionnaires, dont nous parlerons dans la section suivante, utilisaient des accolades avant que les ensembles ne les adoptent, donc un ensemble vide d'accolades est en fait un dictionnaire vide :"
      ]
    },
    {
      "cell_type": "code",
      "execution_count": null,
      "metadata": {},
      "outputs": [],
      "source": [
        "# this is an empty dictionary\n",
        "a = {}\n",
        "\n",
        "# this is how we make an empty set\n",
        "b = set()"
      ]
    },
    {
      "cell_type": "markdown",
      "metadata": {},
      "source": [
        "## Exercice 3 :\n",
        "\n",
        " - 1) Créez un ensemble `a` qui contient les quatre premiers entiers positifs et un ensemble `b` qui contient les quatre premiers entiers positifs impairs.\n",
        " - 2) Créez un ensemble `c` qui combine tous les nombres qui sont dans `a` ou `b` (ou les deux).\n",
        " - 3) Créez un ensemble `d` qui contient tous les nombres de `a` mais pas de `b`.\n",
        " - 4) Créez un ensemble `e` qui contient tous les nombres de `b` mais pas de `a`.\n",
        " - 5) Créez un ensemble `f` qui contient tous les nombres qui sont à la fois dans `a` et dans `b`.\n",
        " - 6) Créez un ensemble `g` qui contient tous les nombres qui sont soit dans `a` soit dans `b` mais pas dans les deux.\n",
        " - 7) Affichez le nombre d'éléments dans `c`.\n",
        "\n"
      ]
    },
    {
      "cell_type": "markdown",
      "metadata": {},
      "source": [
        "## 4. Les  `range`\n",
        "\n",
        "Nous pouvons générer une séquence d'entier (appelé `range`) grace à la fonction `built-in` : `range`. Les `range` sont des générateurs, nous verrons ces derniers en détail dans la prochaine partie. Pour l'instant, nous avons juste besoin de savoir que les nombres de la plage sont générés un à un, et pas tous à la fois.\n",
        " \n",
        "Dans les exemples ci-dessous, nous convertissons chaque `range` en `list` afin que tous les nombres soient générés et que nous puissions les afficher"
      ]
    },
    {
      "cell_type": "code",
      "execution_count": null,
      "metadata": {},
      "outputs": [],
      "source": [
        "# print the integers from 0 to 9\n",
        "print(list(range(10)))\n",
        "\n",
        "# print the integers from 1 to 10\n",
        "print(list(range(1, 11)))\n",
        "\n",
        "# print the odd integers from 1 to 10\n",
        "print(list(range(1, 11, 2)))"
      ]
    },
    {
      "cell_type": "markdown",
      "metadata": {},
      "source": [
        "Comme vous pouvez le voir, si nous passons un seul paramètre à la fonction range, il est utilisé comme borne supérieure. Si nous utilisons deux paramètres, le premier est la borne inférieure et le second est la borne supérieure. Si nous en utilisons trois, le troisième paramètre est la taille du pas. La limite inférieure par défaut est zéro et la taille de pas par défaut est un. Notez que la plage inclut la limite inférieure et exclut la limite supérieure."
      ]
    },
    {
      "cell_type": "markdown",
      "metadata": {},
      "source": [
        "## Exercice 4 :\n",
        "\n",
        " - 1) Créez un range `a` qui commence à partir de 0 et s'étend sur 20 nombres.\n",
        " - 2) Créez un range `b` qui commence à partir de 3 et se termine à 12.\n",
        " - 3) Créez un range `c` qui contient un entier sur trois commençant à 2 et se terminant à 50."
      ]
    },
    {
      "cell_type": "markdown",
      "metadata": {},
      "source": [
        "## 5. Les dictionnaires `dict`\n",
        "\n",
        "Le type de dictionnaire Python est appelé `dict`. Nous pouvons utiliser un dictionnaire pour stocker des paires clé-valeur. Les `dict` sont définis avec un ensemble de paires clé-valeur séparées par des virgules entre des accolades (`{` et `}`). Nous utilisons deux points pour séparer chaque clé de sa valeur. Nous accédons aux valeurs du dictionnaire de la même manière que les éléments de liste ou de tuple, mais nous utilisons des clés au lieu d'indices :"
      ]
    },
    {
      "cell_type": "code",
      "execution_count": null,
      "metadata": {},
      "outputs": [],
      "source": [
        "marbles = {\"red\": 34, \"green\": 30, \"brown\": 31, \"yellow\": 29 }\n",
        "\n",
        "personal_details = {\n",
        "    \"name\": \"Jane Doe\",\n",
        "    \"age\": 38, # trailing comma is legal\n",
        "}\n",
        "\n",
        "print(marbles[\"green\"])\n",
        "print(personal_details[\"name\"])\n",
        "\n",
        "# This will give us an error, because there is no such key in the dictionary\n",
        "print(marbles[\"blue\"])\n",
        "\n",
        "# modify a value\n",
        "marbles[\"red\"] += 3\n",
        "personal_details[\"name\"] = \"Jane Q. Doe\""
      ]
    },
    {
      "cell_type": "markdown",
      "metadata": {},
      "source": [
        "Les clés d'un dictionnaire n'ont pas besoin d'être des `string`, elles peuvent être de n'importe quel type immuable, y compris des nombres et même des tuples. Nous pouvons mélanger différents types de clés et différents types de valeurs dans un dictionnaire. Les clés sont uniques, si nous répétons une clé, nous écraserons l'ancienne valeur avec la nouvelle. Lorsque nous stockons une valeur dans un dictionnaire, la clé n'a pas besoin d'exister - elle sera créée automatiquement :"
      ]
    },
    {
      "cell_type": "code",
      "execution_count": null,
      "metadata": {},
      "outputs": [],
      "source": [
        "battleship_guesses = {\n",
        "    (3, 4): False,\n",
        "    (2, 6): True,\n",
        "    (2, 5): True,\n",
        "}\n",
        "\n",
        "surnames = {} # this is an empty dictionary\n",
        "surnames[\"John\"] = \"Smith\"\n",
        "surnames[\"John\"] = \"Doe\"\n",
        "print(surnames) # we overwrote the older surname\n",
        "\n",
        "marbles = {\"red\": 34, \"green\": 30, \"brown\": 31, \"yellow\": 29 }\n",
        "marbles[\"blue\"] = 30 # this will work\n",
        "marbles[\"purple\"] += 2 # this will fail -- the increment operator needs an existing value to modify!\n"
      ]
    },
    {
      "cell_type": "markdown",
      "metadata": {},
      "source": [
        "Voici quelques fonctions couramment utilisées pour les objets `dict` :"
      ]
    },
    {
      "cell_type": "code",
      "execution_count": null,
      "metadata": {},
      "outputs": [],
      "source": [
        "marbles = {\"red\": 34, \"green\": 30, \"brown\": 31, \"yellow\": 29 }\n",
        "\n",
        "# Get a value by its key, or None if it doesn't exist\n",
        "marbles.get(\"orange\")\n",
        "# We can specify a different default\n",
        "marbles.get(\"orange\", 0)\n",
        "\n",
        "# Add several items to the dictionary at once\n",
        "marbles.update({\"orange\": 34, \"blue\": 23, \"purple\": 36})\n",
        "\n",
        "# All the keys in the dictionary\n",
        "marbles.keys()\n",
        "# All the values in the dictionary\n",
        "marbles.values()\n",
        "# All the items in the dictionary\n",
        "marbles.items()"
      ]
    },
    {
      "cell_type": "markdown",
      "metadata": {},
      "source": [
        "On peut vérifier si une clé est dans le dictionnaire en utilisant `in` et `not in` :"
      ]
    },
    {
      "cell_type": "code",
      "execution_count": null,
      "metadata": {},
      "outputs": [],
      "source": [
        "print(\"purple\" in marbles.keys())\n",
        "print(\"white\" not in marbles)\n",
        "\n",
        "print(31 in marbles.values())"
      ]
    },
    {
      "cell_type": "markdown",
      "metadata": {},
      "source": [
        "## Exercice 5 :\n",
        "\n",
        " - 1) Créez un `dict` qui stocke les numéros de téléphone (sous forme de valeurs de chaîne) et remplissez-le avec ces paires clé-valeur :\n",
        "\n",
        "| Name | Telephone number |\n",
        "| ---- | ---------------- |\n",
        "| Jane Doe | +27 555 5367 |\n",
        "| John Smith | +27 555 6254 |\n",
        "| Bob Stone | +27 555 5689 |\n",
        "\n",
        " - 2) Changez le numéro de Jane en +27 555 1024\n",
        " - 3) Ajouter une nouvelle entrée pour une personne appelée Anna Cooper avec le numéro de téléphone +27 555 3237\n",
        " - 4) Affichez le numéro de Bob.\n",
        " - 5) Affichez le numéro de Bob de manière à ce que Aucun ne soit imprimé si le nom de Bob n'était pas dans le dictionnaire.\n",
        " - 6) Affichez toutes les clés. Le format n'a pas d'importance, tant qu'ils sont tous visibles.\n",
        " - 7) Affichez toutes les valeurs."
      ]
    },
    {
      "cell_type": "markdown",
      "metadata": {},
      "source": [
        "## 6. Converstion des collections\n",
        "\n",
        "\n",
        "### Conversions implicites\n",
        "\n",
        "Si nous essayons d'itérer sur une collection dans une boucle `for` (quelque chose dont nous discuterons dans le prochain chapitre), Python essaiera de la convertir en quelque chose que nous pouvons parcourir s'il sait comment le faire. Par exemple, les `dict` que nous avons vues ci-dessus ne sont pas réellement des itérateurs, mais Python sait comment les transformer en itérateurs, nous pouvons donc les utiliser dans une boucle `for` sans avoir à les convertir nous-mêmes.\n",
        "\n",
        "Parfois, l'itérateur que nous obtenons par défaut peut ne pas être ce à quoi nous nous attendions, si nous parcourons un dictionnaire dans une boucle `for`, nous parcourrons les clés. Si ce que nous voulons réellement faire est d'itérer sur les valeurs, ou les paires clé et valeur, nous devrons le spécifier nous-mêmes en utilisant les fonctions `values` et `items`.\n",
        "\n",
        "\n",
        "### Conversions explicites\n",
        "\n",
        "Nous pouvons convertir les différents types de séquences en utilisant les fonctions `built-in` (correspondant au type) pour convertir les séquences dans les types souhaités :"
      ]
    },
    {
      "cell_type": "code",
      "execution_count": null,
      "metadata": {},
      "outputs": [],
      "source": [
        "animals = ['cat', 'dog', 'goldfish', 'canary', 'cat']\n",
        "animals_set = set(animals)\n",
        "animals_unique_list = list(animals_set)\n",
        "animals_unique_tuple = tuple(animals_unique_list)\n",
        "\n",
        "\n",
        "marbles = {\"red\": 34, \"green\": 30, \"brown\": 31, \"yellow\": 29 }\n",
        "colours = list(marbles) # the keys will be used by default\n",
        "counts = tuple(marbles.values()) # but we can use a view to get the values\n",
        "marbles_set = set(marbles.items()) # or the key-value pairs\n",
        "\n",
        "\n",
        "# Python doesn't know how to convert this into a dictionary\n",
        "dict([1, 2, 3, 4])\n",
        "\n",
        "# but this will work\n",
        "dict([(1, 2), (3, 4)])"
      ]
    },
    {
      "cell_type": "markdown",
      "metadata": {},
      "source": [
        "## 7. Les `string` sont des séquences\n",
        "\n",
        "Les  `string` sont également une sorte de type de séquence. Ce sont des séquences de caractères et partagent certaines propriétés avec d'autres séquences. Par exemple, nous pouvons trouver la longueur d'une `string` ou l'index d'un caractère dans la `string`, et nous pouvons accéder à des éléments individuels de la `string` ou des `slice` :"
      ]
    },
    {
      "cell_type": "code",
      "execution_count": null,
      "metadata": {},
      "outputs": [],
      "source": [
        "s = \"abracadabra\"\n",
        "\n",
        "print(len(s))\n",
        "print(s.index(\"a\"))\n",
        "\n",
        "print(s[0])\n",
        "print(s[3:5])\n",
        "\n",
        "print('a' in 'abcd') # True\n",
        "print('ab' in 'abcd') # also True"
      ]
    },
    {
      "cell_type": "markdown",
      "metadata": {},
      "source": [
        "N'oubliez pas que les chaînes sont immuables, la modification des caractères sur place n'est pas autorisée :"
      ]
    },
    {
      "cell_type": "code",
      "execution_count": null,
      "metadata": {},
      "outputs": [],
      "source": [
        "# this will give us an error\n",
        "s[0] = \"b\""
      ]
    },
    {
      "cell_type": "markdown",
      "metadata": {},
      "source": [
        "Les opérateurs `in` et `not in` ont un comportement spécial lorsqu'il est appliqué aux `string` : nous pouvons l'utiliser pour déterminer si une `string` contient un seul caractère en tant qu'élément, mais nous pouvons également l'utiliser pour vérifier si une `string` en contient une autre :"
      ]
    },
    {
      "cell_type": "code",
      "execution_count": null,
      "metadata": {},
      "outputs": [],
      "source": [
        "print('a' in 'abcd') # True\n",
        "print('ab' in 'abcd') # also True\n",
        "\n",
        "# this doesn't work for lists\n",
        "print(['a', 'b'] in ['a', 'b', 'c', 'd']) # False"
      ]
    },
    {
      "cell_type": "markdown",
      "metadata": {},
      "source": [
        "On peut convertir une `string` en `list` :"
      ]
    },
    {
      "cell_type": "code",
      "execution_count": null,
      "metadata": {},
      "outputs": [],
      "source": [
        "abc_list = list(\"abracadabra\")"
      ]
    },
    {
      "cell_type": "markdown",
      "metadata": {},
      "source": [
        "Et si on voulait convertir une liste de caractères en chaîne ? L'utilisation de la fonction `str` sur la liste nous donnera simplement une chaîne affichable de la liste, y compris les virgules, les guillemets et les crochets. Pour fusionner des séquence de caractères (ou de `string`) en une seule `string`, nous devons utiliser la fonction `join`.\n",
        "\n",
        "Cette fonction, attachée à une `string` fonction comme tel :"
      ]
    },
    {
      "cell_type": "code",
      "execution_count": null,
      "metadata": {},
      "outputs": [],
      "source": [
        "l = ['a', 'b', 'r', 'a', 'c', 'a', 'd', 'a', 'b', 'r', 'a']\n",
        "\n",
        "s = \"\".join(l)\n",
        "print(s)\n",
        "\n",
        "\n",
        "animals = ('cat', 'dog', 'fish')\n",
        "\n",
        "# a space-separated list\n",
        "print(\" \".join(animals))\n",
        "\n",
        "# a comma-separated list\n",
        "print(\",\".join(animals))\n",
        "\n",
        "# a comma-separated list with spaces\n",
        "print(\", \".join(animals))"
      ]
    },
    {
      "cell_type": "markdown",
      "metadata": {},
      "source": [
        "L'opposé de la fonction `join` est la fonction `split`. Nous pouvons diviser une `string` en une liste de `string` en utilisant la fonction `split`. S'il est appelé sans aucun paramètre, split divise une chaîne en mots, en utilisant n'importe quel nombre de caractères blancs consécutifs comme délimiteur. Nous pouvons utiliser des paramètres supplémentaires pour spécifier un délimiteur différent ainsi qu'une limite sur le nombre maximum de fractionnements à effectuer :"
      ]
    },
    {
      "cell_type": "code",
      "execution_count": null,
      "metadata": {},
      "outputs": [],
      "source": [
        "print(\"cat    dog fish\\n\".split())\n",
        "print(\"cat|dog|fish\".split(\"|\"))\n",
        "print(\"cat, dog, fish\".split(\", \"))\n",
        "print(\"cat, dog, fish\".split(\", \", 1))"
      ]
    },
    {
      "cell_type": "markdown",
      "metadata": {},
      "source": [
        "## Exercice 6\n",
        "\n",
        "- 1) Convertissez une liste qui contient les nombres 1, 1, 2, 3 et 3, et convertissez-la en un tuple `a`.\n",
        "- 2) Convertir `a` en liste `b`. Affichez sa longueur.\n",
        "- 3) Convertir `b` en `set` `c`. Affichez sa longueur.\n",
        "- 4) Convertir `c` en liste `d`. Affichez sa longueur.\n",
        "- 5) Créez un `range` qui commence à 1 et se termine à 10. Convertissez-la en liste `e`.\n",
        "- 6) Créez le dictionnaire de l'exercice précédent. Créez une liste `t` qui contient toutes les paires clé-valeur du dictionnaire sous forme de tuples.\n",
        "- 7) Créez une liste `v` de toutes les valeurs du dictionnaire.\n",
        "- 8) Créez une liste `k` de toutes les clés du dictionnaire.\n",
        "- 9) Créez une chaîne `s` contenant le mot « antidisestablishmentarianism ». Utilisez la fonction `sorted` dessus. Quel est le type de sortie ? Concaténez les lettres de la sortie dans une chaîne `s2`.\n",
        "- 10) Divisez la chaîne \"le renard brun rapide a sauté par-dessus le chien paresseux\" en une liste `w` de mots individuels."
      ]
    },
    {
      "cell_type": "markdown",
      "metadata": {},
      "source": [
        "## Les séquences à 2 dimensions\n",
        "\n",
        "La plupart des séquences que nous avons vues jusqu'à présent étaient unidimensionnelles : chaque séquence est une ligne d'éléments. Que se passe-t-il si nous voulons utiliser une séquence pour représenter une structure de données bidimensionnelle, qui comporte à la fois des lignes et des colonnes ? La façon la plus simple de le faire est de créer une séquence dans laquelle chaque élément est également une séquence. Par exemple, nous pouvons créer une liste de listes :"
      ]
    },
    {
      "cell_type": "code",
      "execution_count": null,
      "metadata": {},
      "outputs": [],
      "source": [
        "my_table = [\n",
        "    [1, 2, 3],\n",
        "    [4, 5, 6],\n",
        "    [7, 8, 9],\n",
        "    [10, 11, 12],\n",
        "]"
      ]
    },
    {
      "cell_type": "markdown",
      "metadata": {},
      "source": [
        "La liste extérieure a quatre éléments, et chacun de ces éléments est une liste avec trois éléments (qui sont des nombres). Pour accéder à l'un de ces nombres, nous devons utiliser deux indices - un pour la liste externe et un pour la liste interne :"
      ]
    },
    {
      "cell_type": "code",
      "execution_count": null,
      "metadata": {},
      "outputs": [],
      "source": [
        "print(my_table[0][0])\n",
        "\n",
        "# lists are mutable, so we can do this\n",
        "my_table[0][0] = 42"
      ]
    },
    {
      "cell_type": "markdown",
      "metadata": {},
      "source": [
        "orsque nous utilisons une séquence bidimensionnelle pour représenter des données tabulaires, chaque séquence interne aura la même longueur, car un tableau est rectangulaire, mais rien ne nous empêche de construire des séquences bidimensionnelles qui n'ont pas cette propriété :"
      ]
    },
    {
      "cell_type": "code",
      "execution_count": null,
      "metadata": {},
      "outputs": [],
      "source": [
        "my_2d_list = [\n",
        "    [0],\n",
        "    [1, 2, 3, 4],\n",
        "    [5, 6],\n",
        "]"
      ]
    },
    {
      "cell_type": "markdown",
      "metadata": {},
      "source": [
        "On peut aussi faire une séquence tridimensionnelle en faisant une liste de listes de listes :"
      ]
    },
    {
      "cell_type": "code",
      "execution_count": null,
      "metadata": {},
      "outputs": [],
      "source": [
        "my_3d_list = [\n",
        "    [[1, 2], [3, 4]],\n",
        "    [[5, 6], [7, 8]],\n",
        "]\n",
        "\n",
        "print(my_3d_list[0][0][0])"
      ]
    },
    {
      "cell_type": "markdown",
      "metadata": {},
      "source": [
        "### Exemple : emploi du temps\n",
        "\n",
        "Si nous voulions faire une liste en deux dimensions pour représenter un emploi du temps hebdomadaire, nous pourrions soit avoir des jours comme liste extérieure et des créneaux horaires comme liste intérieure ou l'inverse - nous devrons nous rappeler quelle plage nous avons choisie pour être la lignes et dont les colonnes.\n",
        "\n",
        "Supposons que nous voulions initialiser l'horaire avec une chaîne vide dans chaque plage horaire – disons que nous avons 24 plages horaires d'une heure chaque jour. Cela fait sept listes de 24 éléments chacune :"
      ]
    },
    {
      "cell_type": "code",
      "execution_count": null,
      "metadata": {},
      "outputs": [],
      "source": [
        "day = [\"\"] * 24\n",
        "print(day)"
      ]
    },
    {
      "cell_type": "markdown",
      "metadata": {},
      "source": [
        "Mais que se passe-t-il si nous répétons un jour sept fois pour faire une semaine ?"
      ]
    },
    {
      "cell_type": "code",
      "execution_count": null,
      "metadata": {},
      "outputs": [],
      "source": [
        "timetable =  [day] * 7\n",
        "print(timetable)"
      ]
    },
    {
      "cell_type": "markdown",
      "metadata": {},
      "source": [
        "Voyons ce qui se passe lorsque nous essayons de programmer une réunion pour le lundi après-midi :"
      ]
    },
    {
      "cell_type": "code",
      "execution_count": null,
      "metadata": {},
      "outputs": [],
      "source": [
        "timetable[0][15] = \"meeting with Jane\"\n",
        "print(timetable)"
      ]
    },
    {
      "cell_type": "markdown",
      "metadata": {},
      "source": [
        "Chaque jour a la même réunion l'après-midi ! Qu'est ce qui s'est passé ? Lorsque nous avons multiplié notre liste de jours par sept, nous avons rempli notre emploi du temps avec le même objet `list`, répété sept fois. Tous les éléments de notre emploi du temps sont le même jour, donc peu importe celui que nous modifions, nous les modifions tous en même temps.\n",
        "\n",
        "Pourquoi cela n'avait-il pas d'importance lorsque nous avons fait la liste des jours en multipliant la même chaîne vide 24 fois ? Parce que les `string` sont immuables. Nous ne pouvons modifier les valeurs des `string` dans la liste des jours qu'en leur attribuant de nouvelles valeurs, nous ne pouvons pas les modifier directement, donc peu importe qu'elles commencent toutes par le même objet de chaîne.\n",
        "   \n",
        "Ce que nous voulons en fait, ce sont sept copies d'une liste de jours dans notre emploi du temps :"
      ]
    },
    {
      "cell_type": "code",
      "execution_count": null,
      "metadata": {},
      "outputs": [],
      "source": [
        "timetable = [[\"\"] * 24 for day in range(7)]"
      ]
    },
    {
      "cell_type": "markdown",
      "metadata": {},
      "source": [
        "## Exercice 7\n",
        "\n",
        " - 1) Créez une liste `a` qui contient trois tuples. Le premier tuple doit contenir un seul élément, le deuxième deux éléments et le troisième trois éléments.\n",
        " - 2) Afficher le deuxième élément du deuxième élément de `a`.\n",
        " - 3) Créez une liste `b` qui contient quatre listes, chacune contenant quatre éléments.\n",
        " - 4) Affichez les deux derniers éléments du premier élément de `b`.\n",
        "\n"
      ]
    }
  ],
  "metadata": {
    "colab": {
      "name": "2021-07-07-React-C1-lesson1.ipynb",
      "provenance": []
    },
    "interpreter": {
      "hash": "5f93c710f340a2e31cff3bb6ebdbfdc2ef47a25bab77ef50e9e25900c31fe89f"
    },
    "kernelspec": {
      "display_name": "Python 3.7.9 64-bit ('python-course': virtualenv)",
      "name": "python3"
    },
    "language_info": {
      "codemirror_mode": {
        "name": "ipython",
        "version": 3
      },
      "file_extension": ".py",
      "mimetype": "text/x-python",
      "name": "python",
      "nbconvert_exporter": "python",
      "pygments_lexer": "ipython3",
      "version": "3.7.9"
    },
    "varInspector": {
      "cols": {
        "lenName": 16,
        "lenType": 16,
        "lenVar": 40
      },
      "kernels_config": {
        "python": {
          "delete_cmd_postfix": "",
          "delete_cmd_prefix": "del ",
          "library": "var_list.py",
          "varRefreshCmd": "print(var_dic_list())"
        },
        "r": {
          "delete_cmd_postfix": ") ",
          "delete_cmd_prefix": "rm(",
          "library": "var_list.r",
          "varRefreshCmd": "cat(var_dic_list()) "
        }
      },
      "types_to_exclude": [
        "module",
        "function",
        "builtin_function_or_method",
        "instance",
        "_Feature"
      ],
      "window_display": false
    }
  },
  "nbformat": 4,
  "nbformat_minor": 2
}
