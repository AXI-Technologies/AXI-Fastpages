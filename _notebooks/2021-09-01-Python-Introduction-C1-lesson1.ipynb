{
 "cells": [
  {
   "cell_type": "markdown",
   "source": [
    "# Java vs Python\n",
    "\n",
    "\n",
    "\n",
    "Contrairement à java les variables en python sont typées dynamiquement. \n",
    "Elles ont bien un type, mais ce n'est pas au développeur de le spécifier à la création de variables : c'est python qui devine du mieux qu'il peut le type des variables lors de leur création. \n",
    "\n",
    "\n",
    "![sd.s](python_vs_java.png)"
   ],
   "metadata": {
    "tags": [],
    "cell_id": "00001-80080fcd-856e-42ac-87a1-4af6c7fd492f",
    "deepnote_cell_type": "markdown"
   }
  },
  {
   "cell_type": "code",
   "execution_count": null,
   "source": [
    "a = 2 #typage dynamique\r\n",
    "\r\n",
    "print(type(a))\r\n"
   ],
   "outputs": [
    {
     "output_type": "stream",
     "name": "stdout",
     "text": [
      "<class 'int'>\n"
     ]
    }
   ],
   "metadata": {
    "tags": [],
    "cell_id": "00002-a2e33f0b-9ba4-4ef7-9a19-7868678f0e74",
    "deepnote_to_be_reexecuted": false,
    "source_hash": "4834deb2",
    "execution_millis": 119,
    "execution_start": 1613744024576,
    "deepnote_cell_type": "code"
   }
  },
  {
   "cell_type": "markdown",
   "source": [],
   "metadata": {
    "tags": [],
    "cell_id": "00002-8bfd1c48-2153-4852-b59f-a77f8f3e31de",
    "deepnote_cell_type": "markdown"
   }
  },
  {
   "cell_type": "code",
   "execution_count": null,
   "source": [
    "b = 52.1\r\n",
    "print(type(b))"
   ],
   "outputs": [
    {
     "output_type": "stream",
     "name": "stdout",
     "text": [
      "<class 'float'>\n"
     ]
    }
   ],
   "metadata": {
    "tags": [],
    "cell_id": "00003-8089a645-31e0-4dd8-83b6-dc1d529d5c83",
    "deepnote_to_be_reexecuted": false,
    "source_hash": "cc76fc92",
    "execution_millis": 0,
    "execution_start": 1613386338091,
    "deepnote_cell_type": "code"
   }
  },
  {
   "cell_type": "code",
   "execution_count": null,
   "source": [
    "message = \"coucou\"\r\n",
    "print(type(message))"
   ],
   "outputs": [
    {
     "output_type": "stream",
     "name": "stdout",
     "text": [
      "<class 'str'>\n"
     ]
    }
   ],
   "metadata": {
    "tags": [],
    "cell_id": "00004-91ddffe1-862d-4902-bfad-92f1bdd232f5",
    "deepnote_to_be_reexecuted": false,
    "source_hash": "9e17b3e2",
    "execution_millis": 9,
    "execution_start": 1613386347232,
    "deepnote_cell_type": "code"
   }
  },
  {
   "cell_type": "code",
   "execution_count": null,
   "source": [
    "# les fonctions peuvent exister d'elle même en python\r\n",
    "#pas besoin de classe\r\n",
    "#on utilise le mot clé def\r\n",
    "\r\n",
    "def ma_premiere_fonction(argument1, argument2):# # convention de nommage snake_case : standard python\r\n",
    "    \r\n",
    "    #les instructions décalées sont dans la fonction\r\n",
    "    print(\"dans la fonction\")\r\n",
    "    return argument1 + argument2 # pas {} ??? comment python sait que la fonction débute et s'arrête\r\n",
    "\r\n",
    "#les instructions sans décalage sont en dehors de la fonction\r\n",
    "print(\"en dehors de la fonction\")\r\n",
    "result = ma_premiere_fonction(3, 5)\r\n",
    "result2 = ma_premiere_fonction(1, 1)\r\n",
    "print(result, result2)\r\n"
   ],
   "outputs": [
    {
     "output_type": "stream",
     "name": "stdout",
     "text": [
      "en dehors de la fonction\n",
      "dans la fonction\n",
      "dans la fonction\n",
      "8 2\n"
     ]
    }
   ],
   "metadata": {
    "tags": [],
    "cell_id": "00005-73a81ddc-e999-4fcd-8d39-c18e90d71f24",
    "deepnote_to_be_reexecuted": false,
    "source_hash": "829fa5ae",
    "execution_millis": 1,
    "execution_start": 1613576165731,
    "deepnote_cell_type": "code"
   }
  },
  {
   "cell_type": "code",
   "execution_count": null,
   "source": [],
   "outputs": [],
   "metadata": {
    "tags": [],
    "cell_id": "00006-36f3cbeb-a3d8-45cd-ae69-eaadda9e0db1",
    "deepnote_cell_type": "code"
   }
  },
  {
   "cell_type": "markdown",
   "source": [
    "Pas d'accolade en python ! \n",
    "Pour savoir quand une fonction s'arrête\n",
    "Pour savoir si une instruction est dans une fonction ou non : c'est l'indentation\n",
    "\n",
    "Avantage : ça vous force à indenter le code"
   ],
   "metadata": {
    "tags": [],
    "cell_id": "00007-7b22caa1-678b-4453-84ad-2666676b5232",
    "deepnote_cell_type": "markdown"
   }
  },
  {
   "cell_type": "code",
   "execution_count": null,
   "source": [
    "#code incorrect\r\n",
    "def ma_premiere_fonction(argument1, argument2): # convention de nommage snake_case : standard python\r\n",
    "    \r\n",
    "    #les instructions décalées sont dans la fonction\r\n",
    "print(\"dans la fonction\")\r\n",
    "    return argument1 + argument2 # pas {} ??? comment python sait que la fonction débute et s'arrête"
   ],
   "outputs": [
    {
     "output_type": "error",
     "ename": "IndentationError",
     "evalue": "expected an indented block (<ipython-input-23-99940091c6fc>, line 5)",
     "traceback": [
      "\u001b[0;36m  File \u001b[0;32m\"<ipython-input-23-99940091c6fc>\"\u001b[0;36m, line \u001b[0;32m5\u001b[0m\n\u001b[0;31m    print(\"dans la fonction\")\u001b[0m\n\u001b[0m        ^\u001b[0m\n\u001b[0;31mIndentationError\u001b[0m\u001b[0;31m:\u001b[0m expected an indented block\n"
     ]
    }
   ],
   "metadata": {
    "tags": [],
    "cell_id": "00008-55d4b187-ec07-4775-b0ae-3b52c88e73e4",
    "deepnote_to_be_reexecuted": false,
    "source_hash": "8a638946",
    "execution_millis": 13,
    "execution_start": 1613386542499,
    "deepnote_cell_type": "code"
   }
  },
  {
   "cell_type": "markdown",
   "source": [
    "IndentationError: expected an indented block\n",
    "\n",
    "signifie qu'il y a un problème d'indentation"
   ],
   "metadata": {
    "tags": [],
    "cell_id": "00009-8fd4ed1f-bb19-48e3-98f7-8c9785050d5a",
    "deepnote_cell_type": "markdown"
   }
  },
  {
   "cell_type": "markdown",
   "source": [
    "# Les conditions ou également branchement conditionnel ! \n",
    "\n",
    "permet d'executer des instructions uniquement si une condition est respectée\n",
    "\n",
    "\n"
   ],
   "metadata": {
    "tags": [],
    "cell_id": "00010-f31a08d9-bd53-4e1b-9e64-33e554ff33b8",
    "deepnote_cell_type": "markdown"
   }
  },
  {
   "cell_type": "code",
   "execution_count": null,
   "source": [
    "age = 65\r\n",
    "if age > 75:\r\n",
    "    #pareil pas d'accolade, c'est l'indentation qui permet de savoir\r\n",
    "    #si une instruction est dans un if ou non\r\n",
    "    print(\"tu as le droit au vaccin\")\r\n",
    "elif age>55: #else if    \r\n",
    "    print(\"bientôôt\")\r\n",
    "else: \r\n",
    "    print('pas le droit')\r\n"
   ],
   "outputs": [
    {
     "output_type": "stream",
     "name": "stdout",
     "text": [
      "bientôôt\n"
     ]
    }
   ],
   "metadata": {
    "tags": [],
    "cell_id": "00009-148bb620-5858-4ffc-b21c-170f836412c3",
    "deepnote_to_be_reexecuted": false,
    "source_hash": "6f0298c",
    "execution_millis": 7,
    "execution_start": 1613386575623,
    "deepnote_cell_type": "code"
   }
  },
  {
   "cell_type": "code",
   "execution_count": null,
   "source": [
    "age = 54\r\n",
    "maladie_grave = True #booléen True ou False\r\n",
    "if age > 75:\r\n",
    "    print(\"ok vaccin\")\r\n",
    "\r\n",
    "elif age > 55 and maladie_grave:\r\n",
    "    print(\"ok\")\r\n",
    "else:\r\n",
    "    print(\"attend\")\r\n"
   ],
   "outputs": [
    {
     "output_type": "stream",
     "name": "stdout",
     "text": [
      "attend\n"
     ]
    }
   ],
   "metadata": {
    "tags": [],
    "cell_id": "00012-84cc8e3a-5dde-4c3f-9d2a-72c9c935a141",
    "deepnote_to_be_reexecuted": false,
    "source_hash": "4b2651a9",
    "execution_start": 1613378733443,
    "execution_millis": 8,
    "deepnote_cell_type": "code"
   }
  },
  {
   "cell_type": "code",
   "execution_count": null,
   "source": [
    "maladie_grave = True #T majuscule. False : F majuscule\r\n",
    "print(not maladie_grave)"
   ],
   "outputs": [
    {
     "output_type": "stream",
     "name": "stdout",
     "text": [
      "False\n"
     ]
    }
   ],
   "metadata": {
    "tags": [],
    "cell_id": "00013-7dd40e22-587e-490a-8474-f7c1af2ef700",
    "deepnote_to_be_reexecuted": false,
    "source_hash": "9f36911f",
    "execution_start": 1613378755131,
    "execution_millis": 7,
    "deepnote_cell_type": "code"
   }
  },
  {
   "cell_type": "code",
   "execution_count": null,
   "source": [
    "a = true #il faut la majuscule sinon il croit que c'est une variable"
   ],
   "outputs": [
    {
     "output_type": "error",
     "ename": "NameError",
     "evalue": "name 'true' is not defined",
     "traceback": [
      "\u001b[0;31m---------------------------------------------------------------------------\u001b[0m",
      "\u001b[0;31mNameError\u001b[0m                                 Traceback (most recent call last)",
      "\u001b[0;32m<ipython-input-11-1045d4065890>\u001b[0m in \u001b[0;36m<module>\u001b[0;34m\u001b[0m\n\u001b[0;32m----> 1\u001b[0;31m \u001b[0ma\u001b[0m \u001b[0;34m=\u001b[0m \u001b[0mtrue\u001b[0m \u001b[0;31m#il faut la majuscule\u001b[0m\u001b[0;34m\u001b[0m\u001b[0;34m\u001b[0m\u001b[0m\n\u001b[0m",
      "\u001b[0;31mNameError\u001b[0m: name 'true' is not defined"
     ]
    }
   ],
   "metadata": {
    "tags": [],
    "cell_id": "00014-c92ab6ce-9c2f-49db-ac32-e19e39d39a1f",
    "deepnote_to_be_reexecuted": false,
    "source_hash": "5fc4399d",
    "execution_start": 1613378778539,
    "execution_millis": 440,
    "deepnote_cell_type": "code"
   }
  },
  {
   "cell_type": "code",
   "execution_count": null,
   "source": [
    "true = True\r\n",
    "print(true)"
   ],
   "outputs": [
    {
     "output_type": "stream",
     "name": "stdout",
     "text": [
      "True\n"
     ]
    }
   ],
   "metadata": {
    "tags": [],
    "cell_id": "00015-58adf69c-e65f-4655-846c-4ba2a7d0ac22",
    "deepnote_to_be_reexecuted": false,
    "source_hash": "448bbf2d",
    "execution_start": 1613378809576,
    "execution_millis": 1,
    "deepnote_cell_type": "code"
   }
  },
  {
   "cell_type": "code",
   "execution_count": null,
   "source": [
    "sum = 2 #ne pas utiliser des nom de fonction sstandard comme nom de variable\r\n",
    "print(sum)"
   ],
   "outputs": [
    {
     "output_type": "stream",
     "name": "stdout",
     "text": [
      "2\n"
     ]
    }
   ],
   "metadata": {
    "tags": [],
    "cell_id": "00015-40a6eaa8-9737-4337-97c9-d2c8794f9c4a",
    "deepnote_to_be_reexecuted": false,
    "source_hash": "99a92283",
    "execution_millis": 13,
    "execution_start": 1613378842424,
    "deepnote_cell_type": "code"
   }
  },
  {
   "cell_type": "code",
   "execution_count": null,
   "source": [
    "sum([1, 2, 3]) #ne marche plus, jai cassé la fonction sum"
   ],
   "outputs": [
    {
     "output_type": "error",
     "ename": "TypeError",
     "evalue": "'int' object is not callable",
     "traceback": [
      "\u001b[0;31m---------------------------------------------------------------------------\u001b[0m",
      "\u001b[0;31mTypeError\u001b[0m                                 Traceback (most recent call last)",
      "\u001b[0;32m<ipython-input-15-5b30f1e835bd>\u001b[0m in \u001b[0;36m<module>\u001b[0;34m\u001b[0m\n\u001b[0;32m----> 1\u001b[0;31m \u001b[0msum\u001b[0m\u001b[0;34m(\u001b[0m\u001b[0;34m[\u001b[0m\u001b[0;36m1\u001b[0m\u001b[0;34m,\u001b[0m \u001b[0;36m2\u001b[0m\u001b[0;34m,\u001b[0m \u001b[0;36m3\u001b[0m\u001b[0;34m]\u001b[0m\u001b[0;34m)\u001b[0m\u001b[0;34m\u001b[0m\u001b[0;34m\u001b[0m\u001b[0m\n\u001b[0m",
      "\u001b[0;31mTypeError\u001b[0m: 'int' object is not callable"
     ]
    }
   ],
   "metadata": {
    "tags": [],
    "cell_id": "00017-ecf3b557-ffed-4680-8c9d-ce31b2e5fc50",
    "deepnote_to_be_reexecuted": false,
    "source_hash": "43b0762c",
    "execution_start": 1613378855267,
    "execution_millis": 5,
    "deepnote_cell_type": "code"
   }
  },
  {
   "cell_type": "code",
   "execution_count": null,
   "source": [
    "def can_i_get_vaccinated(age):\r\n",
    "\r\n",
    "    if age > 75:\r\n",
    "        return True #double décalage\r\n",
    "    else:\r\n",
    "        return False #double décalage avec tab\r\n",
    "\r\n",
    "result = can_i_get_vaccinated(55)\r\n",
    "print(result)\r\n"
   ],
   "outputs": [
    {
     "output_type": "stream",
     "name": "stdout",
     "text": [
      "False\n"
     ]
    }
   ],
   "metadata": {
    "tags": [],
    "cell_id": "00018-1cdd84b9-6fe8-4b30-b037-2e82322e76eb",
    "deepnote_to_be_reexecuted": false,
    "source_hash": "2226bd83",
    "execution_start": 1613378951415,
    "execution_millis": 8,
    "deepnote_cell_type": "code"
   }
  },
  {
   "cell_type": "code",
   "execution_count": null,
   "source": [
    "a = 42\r\n",
    "print(type(a))\r\n",
    "print(type(a) == int)\r\n",
    "\r\n",
    "b = \"coucou\"\r\n",
    "print(type(b))\r\n",
    "print(type(b) == str)\r\n",
    "\r\n",
    "\r\n",
    "is_b_str = isinstance(b, str)\r\n",
    "print(is_b_str)"
   ],
   "outputs": [
    {
     "output_type": "stream",
     "name": "stdout",
     "text": [
      "<class 'int'>\n",
      "True\n",
      "<class 'str'>\n",
      "True\n",
      "True\n"
     ]
    }
   ],
   "metadata": {
    "tags": [],
    "cell_id": "00019-9388f84e-7392-4dee-91c0-841ef418542c",
    "deepnote_to_be_reexecuted": false,
    "source_hash": "f70d81ae",
    "execution_millis": 10,
    "execution_start": 1613489462056,
    "deepnote_cell_type": "code"
   }
  }
 ],
 "nbformat": 4,
 "nbformat_minor": 2,
 "metadata": {
  "orig_nbformat": 2,
  "deepnote_notebook_id": "515f1acf-b74c-4f7d-a86d-8cbe4c1d2e22",
  "deepnote": {},
  "deepnote_execution_queue": [],
  "language_info": {
   "name": "python"
  }
 }
}