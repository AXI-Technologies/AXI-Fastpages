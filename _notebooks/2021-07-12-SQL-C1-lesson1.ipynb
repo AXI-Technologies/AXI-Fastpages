{
 "metadata": {
  "language_info": {
   "codemirror_mode": {
    "name": "ipython",
    "version": 3
   },
   "file_extension": ".py",
   "mimetype": "text/x-python",
   "name": "python",
   "nbconvert_exporter": "python",
   "pygments_lexer": "ipython3",
   "version": 3
  },
  "orig_nbformat": 4
 },
 "nbformat": 4,
 "nbformat_minor": 2,
 "cells": [
  {
   "source": [
    "# I-1. InVision Feedback Example\n",
    "> SQL - Chapter1 - LESSON 1.\n",
    "\n",
    "- toc: false \n",
    "- badges: true\n",
    "- comments: false\n",
    "- categories: [SQL, SQLChapter1]\n",
    "- layout: post\n",
    "- author: NGUYEN Huynh Dung\n",
    "- permalink: /sql/chapter1/1/"
   ],
   "cell_type": "markdown",
   "metadata": {}
  },
  {
   "source": [
    "# LESSON1\n",
    "\n",
    "SQL - Chapter1 - Lesson1\n",
    "This is lesson1 - chapter1 of cours SQL"
   ],
   "cell_type": "code",
   "metadata": {},
   "execution_count": null,
   "outputs": []
  }
 ]
}