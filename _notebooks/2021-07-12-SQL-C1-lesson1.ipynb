{
 "metadata": {
  "language_info": {
   "codemirror_mode": {
    "name": "ipython",
    "version": 3
   },
   "file_extension": ".py",
   "mimetype": "text/x-python",
   "name": "python",
   "nbconvert_exporter": "python",
   "pygments_lexer": "ipython3",
   "version": 3
  },
  "orig_nbformat": 4
 },
 "nbformat": 4,
 "nbformat_minor": 2,
 "cells": [
  {
   "cell_type": "markdown",
   "source": [
    "# I-1. InVision Feedback Example\r\n",
    "> SQL - Chapter1 - LESSON 1.\r\n",
    "\r\n",
    "- toc: false \r\n",
    "- badges: true\r\n",
    "- comments: false\r\n",
    "- categories: [SQL, SQLChapter1_Lesson]\r\n",
    "- layout: post\r\n",
    "- author: NGUYEN Huynh Dung\r\n",
    "- permalink: /sql/chapter/1/lesson/1/"
   ],
   "metadata": {}
  },
  {
   "cell_type": "markdown",
   "source": [
    "# LESSON1\n",
    "\n",
    "SQL - Chapter1 - Lesson1\n",
    "This is lesson1 - chapter1 of cours SQL"
   ],
   "metadata": {}
  }
 ]
}